{
 "cells": [
  {
   "cell_type": "code",
   "execution_count": null,
   "metadata": {},
   "outputs": [],
   "source": [
    "%python3 validate.py --dataset='5ectopic' --batchsize=503 --bitfile=Accel5_FPGA_CL.bit"
   ]
  },
  {
   "cell_type": "code",
   "execution_count": null,
   "metadata": {},
   "outputs": [],
   "source": [
    "%python3 driver.py --exec_mode=throughput_test --batchsize=1 --bitfile=Accel5_FPGA_CL.bit"
   ]
  },
  {
   "cell_type": "code",
   "execution_count": null,
   "metadata": {},
   "outputs": [],
   "source": [
    "%python3 validate.py --dataset='5ectopic' --batchsize=503 --bitfile=Accel6_FPGA_CL.bit"
   ]
  },
  {
   "cell_type": "code",
   "execution_count": null,
   "metadata": {},
   "outputs": [],
   "source": [
    "%python3 driver.py --exec_mode=throughput_test --batchsize=1 --bitfile=Accel6_FPGA_CL.bit"
   ]
  },
  {
   "cell_type": "code",
   "execution_count": null,
   "metadata": {},
   "outputs": [],
   "source": [
    "%python3 validate.py --dataset='5ectopic' --batchsize=503 --bitfile=Accel7_FPGA_CL.bit"
   ]
  },
  {
   "cell_type": "code",
   "execution_count": null,
   "metadata": {},
   "outputs": [],
   "source": [
    "%python3 driver.py --exec_mode=throughput_test --batchsize=1 --bitfile=Accel7_FPGA_CL.bit"
   ]
  }
 ],
 "metadata": {
  "kernelspec": {
   "display_name": "Python 3 (ipykernel)",
   "language": "python",
   "name": "python3"
  },
  "language_info": {
   "codemirror_mode": {
    "name": "ipython",
    "version": 3
   },
   "file_extension": ".py",
   "mimetype": "text/x-python",
   "name": "python",
   "nbconvert_exporter": "python",
   "pygments_lexer": "ipython3",
   "version": "3.10.12"
  }
 },
 "nbformat": 4,
 "nbformat_minor": 2
}
